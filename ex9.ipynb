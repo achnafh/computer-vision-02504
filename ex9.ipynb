{
 "cells": [
  {
   "cell_type": "code",
   "execution_count": 1,
   "metadata": {},
   "outputs": [
    {
     "name": "stdout",
     "output_type": "stream",
     "text": [
      "4.7.0\n"
     ]
    }
   ],
   "source": [
    "import cv2 \n",
    "import matplotlib.pyplot as plt\n",
    "import numpy as np\n",
    "print(cv2.__version__)"
   ]
  },
  {
   "cell_type": "code",
   "execution_count": 3,
   "metadata": {},
   "outputs": [],
   "source": [
    "def imshow(title = \"Image\", image = None, size = 5):\n",
    "    w, h = image.shape[0], image.shape[1]\n",
    "    aspect_ratio = w/h\n",
    "    plt.figure(figsize=(size * aspect_ratio,size))\n",
    "    plt.imshow(cv2.cvtColor(image, cv2.COLOR_BGR2RGB))\n",
    "    plt.title(title)\n",
    "    plt.show()"
   ]
  },
  {
   "cell_type": "code",
   "execution_count": 4,
   "metadata": {},
   "outputs": [],
   "source": [
    "#Exercise 1.12\n",
    "\n",
    "def Pi(p): #converts from homogeneous to inhomogeneous\n",
    "    q = p[:-1]/p[-1]\n",
    "\n",
    "    return q\n",
    "\n",
    "def PiInv(q): #inhomogeneous to homogeneous\n",
    "    p= np.vstack((q, np.ones(q.shape[1]))) #stack the inhomogenous with (1, )*n\n",
    "    return(p)\n",
    "\n",
    "ph = np.array([[1, 2, 3], [4, 5, 6], [4, 5, 9]])\n",
    "\n",
    "q = Pi(ph)\n",
    "p = PiInv(q)"
   ]
  },
  {
   "cell_type": "code",
   "execution_count": null,
   "metadata": {},
   "outputs": [],
   "source": [
    "def DrawLine(l, shape):\n",
    "    #Checks where the line intersects the four sides of the image\n",
    "    # and finds the two intersections that are within the frame\n",
    "    def in_frame(l_im):\n",
    "        q = np.cross(l.flatten(), l_im)\n",
    "        q = q[:2]/q[2]\n",
    "        if all(q>=0) and all(q+1<=shape[1::-1]):\n",
    "            return q\n",
    "    lines = [[1, 0, 0], [0, 1, 0], [1, 0, 1-shape[1]], [0, 1, 1-shape[0]]]\n",
    "    P = [in_frame(l_im) for l_im in lines if in_frame(l_im) is not None]\n",
    "    if (len(P)==0):\n",
    "        print(\"Line is completely outside image\")\n",
    "    plt.plot(*np.array(P).T)"
   ]
  }
 ],
 "metadata": {
  "kernelspec": {
   "display_name": "ml-dtu",
   "language": "python",
   "name": "python3"
  },
  "language_info": {
   "codemirror_mode": {
    "name": "ipython",
    "version": 3
   },
   "file_extension": ".py",
   "mimetype": "text/x-python",
   "name": "python",
   "nbconvert_exporter": "python",
   "pygments_lexer": "ipython3",
   "version": "3.8.16"
  }
 },
 "nbformat": 4,
 "nbformat_minor": 2
}
